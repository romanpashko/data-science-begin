{
 "cells": [
  {
   "cell_type": "code",
   "execution_count": 73,
   "id": "f356bf26",
   "metadata": {},
   "outputs": [],
   "source": [
    "library(dplyr)\n",
    "library(tidyverse)"
   ]
  },
  {
   "cell_type": "markdown",
   "id": "717d5825",
   "metadata": {},
   "source": [
    "## Series"
   ]
  },
  {
   "cell_type": "markdown",
   "id": "03ac7b71",
   "metadata": {},
   "source": [
    "a<- 1:9"
   ]
  },
  {
   "cell_type": "code",
   "execution_count": 75,
   "id": "f4149d4e",
   "metadata": {},
   "outputs": [],
   "source": [
    "b = c(\"I\",\"like\",\"to\",\"use\",\"Python\",\"and\",\"Pandas\",\"very\",\"much\")"
   ]
  },
  {
   "cell_type": "code",
   "execution_count": 76,
   "id": "5633dd5e",
   "metadata": {},
   "outputs": [],
   "source": [
    "a1 = length(a)\n",
    "b1 = length(b)"
   ]
  },
  {
   "cell_type": "code",
   "execution_count": 77,
   "id": "834b824d",
   "metadata": {},
   "outputs": [],
   "source": [
    "a = data.frame(a,row.names = c(1:a1))"
   ]
  },
  {
   "cell_type": "code",
   "execution_count": 78,
   "id": "f25cedc2",
   "metadata": {},
   "outputs": [],
   "source": [
    "b = data.frame(b,row.names = c(1:b1))"
   ]
  },
  {
   "cell_type": "markdown",
   "id": "aea16930",
   "metadata": {},
   "source": [
    "## DataFrame"
   ]
  },
  {
   "cell_type": "code",
   "execution_count": 140,
   "id": "0793b3b7",
   "metadata": {},
   "outputs": [],
   "source": [
    "a = data.frame(a,row.names = c(1:a1))"
   ]
  },
  {
   "cell_type": "code",
   "execution_count": 141,
   "id": "bde43cd9",
   "metadata": {},
   "outputs": [],
   "source": [
    "b = data.frame(b,row.names = c(1:b1))"
   ]
  },
  {
   "cell_type": "code",
   "execution_count": 109,
   "id": "5db4a116",
   "metadata": {},
   "outputs": [
    {
     "ename": "ERROR",
     "evalue": "Error in bar.plot(data): could not find function \"bar.plot\"\n",
     "output_type": "error",
     "traceback": [
      "Error in bar.plot(data): could not find function \"bar.plot\"\nTraceback:\n"
     ]
    }
   ],
   "source": [
    "bar.plot(data)"
   ]
  },
  {
   "cell_type": "code",
   "execution_count": 79,
   "id": "e5e6313c",
   "metadata": {},
   "outputs": [],
   "source": [
    "df <- data.frame(a,b)"
   ]
  },
  {
   "cell_type": "code",
   "execution_count": 80,
   "id": "8358faeb",
   "metadata": {},
   "outputs": [],
   "source": [
    "df = df %>% \n",
    "  rename(\n",
    "    A = a,\n",
    "    B = b\n",
    "  )"
   ]
  },
  {
   "cell_type": "code",
   "execution_count": 81,
   "id": "c439f0f3",
   "metadata": {},
   "outputs": [
    {
     "data": {
      "text/html": [
       "<table class=\"dataframe\">\n",
       "<caption>A data.frame: 9 × 2</caption>\n",
       "<thead>\n",
       "\t<tr><th></th><th scope=col>A</th><th scope=col>B</th></tr>\n",
       "\t<tr><th></th><th scope=col>&lt;int&gt;</th><th scope=col>&lt;chr&gt;</th></tr>\n",
       "</thead>\n",
       "<tbody>\n",
       "\t<tr><th scope=row>1</th><td>1</td><td>I     </td></tr>\n",
       "\t<tr><th scope=row>2</th><td>2</td><td>like  </td></tr>\n",
       "\t<tr><th scope=row>3</th><td>3</td><td>to    </td></tr>\n",
       "\t<tr><th scope=row>4</th><td>4</td><td>use   </td></tr>\n",
       "\t<tr><th scope=row>5</th><td>5</td><td>Python</td></tr>\n",
       "\t<tr><th scope=row>6</th><td>6</td><td>and   </td></tr>\n",
       "\t<tr><th scope=row>7</th><td>7</td><td>Pandas</td></tr>\n",
       "\t<tr><th scope=row>8</th><td>8</td><td>very  </td></tr>\n",
       "\t<tr><th scope=row>9</th><td>9</td><td>much  </td></tr>\n",
       "</tbody>\n",
       "</table>\n"
      ],
      "text/latex": [
       "A data.frame: 9 × 2\n",
       "\\begin{tabular}{r|ll}\n",
       "  & A & B\\\\\n",
       "  & <int> & <chr>\\\\\n",
       "\\hline\n",
       "\t1 & 1 & I     \\\\\n",
       "\t2 & 2 & like  \\\\\n",
       "\t3 & 3 & to    \\\\\n",
       "\t4 & 4 & use   \\\\\n",
       "\t5 & 5 & Python\\\\\n",
       "\t6 & 6 & and   \\\\\n",
       "\t7 & 7 & Pandas\\\\\n",
       "\t8 & 8 & very  \\\\\n",
       "\t9 & 9 & much  \\\\\n",
       "\\end{tabular}\n"
      ],
      "text/markdown": [
       "\n",
       "A data.frame: 9 × 2\n",
       "\n",
       "| <!--/--> | A &lt;int&gt; | B &lt;chr&gt; |\n",
       "|---|---|---|\n",
       "| 1 | 1 | I      |\n",
       "| 2 | 2 | like   |\n",
       "| 3 | 3 | to     |\n",
       "| 4 | 4 | use    |\n",
       "| 5 | 5 | Python |\n",
       "| 6 | 6 | and    |\n",
       "| 7 | 7 | Pandas |\n",
       "| 8 | 8 | very   |\n",
       "| 9 | 9 | much   |\n",
       "\n"
      ],
      "text/plain": [
       "  A B     \n",
       "1 1 I     \n",
       "2 2 like  \n",
       "3 3 to    \n",
       "4 4 use   \n",
       "5 5 Python\n",
       "6 6 and   \n",
       "7 7 Pandas\n",
       "8 8 very  \n",
       "9 9 much  "
      ]
     },
     "metadata": {},
     "output_type": "display_data"
    }
   ],
   "source": [
    "df"
   ]
  },
  {
   "cell_type": "code",
   "execution_count": 82,
   "id": "26c75894",
   "metadata": {},
   "outputs": [
    {
     "name": "stdout",
     "output_type": "stream",
     "text": [
      "Column A (series):\n"
     ]
    },
    {
     "data": {
      "text/html": [
       "<table class=\"dataframe\">\n",
       "<caption>A data.frame: 9 × 1</caption>\n",
       "<thead>\n",
       "\t<tr><th></th><th scope=col>A</th></tr>\n",
       "\t<tr><th></th><th scope=col>&lt;int&gt;</th></tr>\n",
       "</thead>\n",
       "<tbody>\n",
       "\t<tr><th scope=row>1</th><td>1</td></tr>\n",
       "\t<tr><th scope=row>2</th><td>2</td></tr>\n",
       "\t<tr><th scope=row>3</th><td>3</td></tr>\n",
       "\t<tr><th scope=row>4</th><td>4</td></tr>\n",
       "\t<tr><th scope=row>5</th><td>5</td></tr>\n",
       "\t<tr><th scope=row>6</th><td>6</td></tr>\n",
       "\t<tr><th scope=row>7</th><td>7</td></tr>\n",
       "\t<tr><th scope=row>8</th><td>8</td></tr>\n",
       "\t<tr><th scope=row>9</th><td>9</td></tr>\n",
       "</tbody>\n",
       "</table>\n"
      ],
      "text/latex": [
       "A data.frame: 9 × 1\n",
       "\\begin{tabular}{r|l}\n",
       "  & A\\\\\n",
       "  & <int>\\\\\n",
       "\\hline\n",
       "\t1 & 1\\\\\n",
       "\t2 & 2\\\\\n",
       "\t3 & 3\\\\\n",
       "\t4 & 4\\\\\n",
       "\t5 & 5\\\\\n",
       "\t6 & 6\\\\\n",
       "\t7 & 7\\\\\n",
       "\t8 & 8\\\\\n",
       "\t9 & 9\\\\\n",
       "\\end{tabular}\n"
      ],
      "text/markdown": [
       "\n",
       "A data.frame: 9 × 1\n",
       "\n",
       "| <!--/--> | A &lt;int&gt; |\n",
       "|---|---|\n",
       "| 1 | 1 |\n",
       "| 2 | 2 |\n",
       "| 3 | 3 |\n",
       "| 4 | 4 |\n",
       "| 5 | 5 |\n",
       "| 6 | 6 |\n",
       "| 7 | 7 |\n",
       "| 8 | 8 |\n",
       "| 9 | 9 |\n",
       "\n"
      ],
      "text/plain": [
       "  A\n",
       "1 1\n",
       "2 2\n",
       "3 3\n",
       "4 4\n",
       "5 5\n",
       "6 6\n",
       "7 7\n",
       "8 8\n",
       "9 9"
      ]
     },
     "metadata": {},
     "output_type": "display_data"
    }
   ],
   "source": [
    "cat(\"Column A (series):\\n\")\n",
    "select(df,'A')"
   ]
  },
  {
   "cell_type": "code",
   "execution_count": 83,
   "id": "7f6885ba",
   "metadata": {},
   "outputs": [
    {
     "data": {
      "text/html": [
       "<table class=\"dataframe\">\n",
       "<caption>A data.frame: 4 × 2</caption>\n",
       "<thead>\n",
       "\t<tr><th></th><th scope=col>A</th><th scope=col>B</th></tr>\n",
       "\t<tr><th></th><th scope=col>&lt;int&gt;</th><th scope=col>&lt;chr&gt;</th></tr>\n",
       "</thead>\n",
       "<tbody>\n",
       "\t<tr><th scope=row>1</th><td>1</td><td>I   </td></tr>\n",
       "\t<tr><th scope=row>2</th><td>2</td><td>like</td></tr>\n",
       "\t<tr><th scope=row>3</th><td>3</td><td>to  </td></tr>\n",
       "\t<tr><th scope=row>4</th><td>4</td><td>use </td></tr>\n",
       "</tbody>\n",
       "</table>\n"
      ],
      "text/latex": [
       "A data.frame: 4 × 2\n",
       "\\begin{tabular}{r|ll}\n",
       "  & A & B\\\\\n",
       "  & <int> & <chr>\\\\\n",
       "\\hline\n",
       "\t1 & 1 & I   \\\\\n",
       "\t2 & 2 & like\\\\\n",
       "\t3 & 3 & to  \\\\\n",
       "\t4 & 4 & use \\\\\n",
       "\\end{tabular}\n"
      ],
      "text/markdown": [
       "\n",
       "A data.frame: 4 × 2\n",
       "\n",
       "| <!--/--> | A &lt;int&gt; | B &lt;chr&gt; |\n",
       "|---|---|---|\n",
       "| 1 | 1 | I    |\n",
       "| 2 | 2 | like |\n",
       "| 3 | 3 | to   |\n",
       "| 4 | 4 | use  |\n",
       "\n"
      ],
      "text/plain": [
       "  A B   \n",
       "1 1 I   \n",
       "2 2 like\n",
       "3 3 to  \n",
       "4 4 use "
      ]
     },
     "metadata": {},
     "output_type": "display_data"
    }
   ],
   "source": [
    "df[df$A<5,]"
   ]
  },
  {
   "cell_type": "code",
   "execution_count": 84,
   "id": "0018c9fc",
   "metadata": {},
   "outputs": [
    {
     "data": {
      "text/html": [
       "<table class=\"dataframe\">\n",
       "<caption>A data.frame: 1 × 2</caption>\n",
       "<thead>\n",
       "\t<tr><th></th><th scope=col>A</th><th scope=col>B</th></tr>\n",
       "\t<tr><th></th><th scope=col>&lt;int&gt;</th><th scope=col>&lt;chr&gt;</th></tr>\n",
       "</thead>\n",
       "<tbody>\n",
       "\t<tr><th scope=row>6</th><td>6</td><td>and</td></tr>\n",
       "</tbody>\n",
       "</table>\n"
      ],
      "text/latex": [
       "A data.frame: 1 × 2\n",
       "\\begin{tabular}{r|ll}\n",
       "  & A & B\\\\\n",
       "  & <int> & <chr>\\\\\n",
       "\\hline\n",
       "\t6 & 6 & and\\\\\n",
       "\\end{tabular}\n"
      ],
      "text/markdown": [
       "\n",
       "A data.frame: 1 × 2\n",
       "\n",
       "| <!--/--> | A &lt;int&gt; | B &lt;chr&gt; |\n",
       "|---|---|---|\n",
       "| 6 | 6 | and |\n",
       "\n"
      ],
      "text/plain": [
       "  A B  \n",
       "6 6 and"
      ]
     },
     "metadata": {},
     "output_type": "display_data"
    }
   ],
   "source": [
    "df[df$A>5 & df$A<7,]"
   ]
  },
  {
   "cell_type": "code",
   "execution_count": 85,
   "id": "079a3b19",
   "metadata": {},
   "outputs": [],
   "source": [
    "df$DivA <- df$A - mean(df$A)"
   ]
  },
  {
   "cell_type": "code",
   "execution_count": 86,
   "id": "64dac80e",
   "metadata": {},
   "outputs": [
    {
     "data": {
      "text/html": [
       "<table class=\"dataframe\">\n",
       "<caption>A data.frame: 9 × 3</caption>\n",
       "<thead>\n",
       "\t<tr><th></th><th scope=col>A</th><th scope=col>B</th><th scope=col>DivA</th></tr>\n",
       "\t<tr><th></th><th scope=col>&lt;int&gt;</th><th scope=col>&lt;chr&gt;</th><th scope=col>&lt;dbl&gt;</th></tr>\n",
       "</thead>\n",
       "<tbody>\n",
       "\t<tr><th scope=row>1</th><td>1</td><td>I     </td><td>-4</td></tr>\n",
       "\t<tr><th scope=row>2</th><td>2</td><td>like  </td><td>-3</td></tr>\n",
       "\t<tr><th scope=row>3</th><td>3</td><td>to    </td><td>-2</td></tr>\n",
       "\t<tr><th scope=row>4</th><td>4</td><td>use   </td><td>-1</td></tr>\n",
       "\t<tr><th scope=row>5</th><td>5</td><td>Python</td><td> 0</td></tr>\n",
       "\t<tr><th scope=row>6</th><td>6</td><td>and   </td><td> 1</td></tr>\n",
       "\t<tr><th scope=row>7</th><td>7</td><td>Pandas</td><td> 2</td></tr>\n",
       "\t<tr><th scope=row>8</th><td>8</td><td>very  </td><td> 3</td></tr>\n",
       "\t<tr><th scope=row>9</th><td>9</td><td>much  </td><td> 4</td></tr>\n",
       "</tbody>\n",
       "</table>\n"
      ],
      "text/latex": [
       "A data.frame: 9 × 3\n",
       "\\begin{tabular}{r|lll}\n",
       "  & A & B & DivA\\\\\n",
       "  & <int> & <chr> & <dbl>\\\\\n",
       "\\hline\n",
       "\t1 & 1 & I      & -4\\\\\n",
       "\t2 & 2 & like   & -3\\\\\n",
       "\t3 & 3 & to     & -2\\\\\n",
       "\t4 & 4 & use    & -1\\\\\n",
       "\t5 & 5 & Python &  0\\\\\n",
       "\t6 & 6 & and    &  1\\\\\n",
       "\t7 & 7 & Pandas &  2\\\\\n",
       "\t8 & 8 & very   &  3\\\\\n",
       "\t9 & 9 & much   &  4\\\\\n",
       "\\end{tabular}\n"
      ],
      "text/markdown": [
       "\n",
       "A data.frame: 9 × 3\n",
       "\n",
       "| <!--/--> | A &lt;int&gt; | B &lt;chr&gt; | DivA &lt;dbl&gt; |\n",
       "|---|---|---|---|\n",
       "| 1 | 1 | I      | -4 |\n",
       "| 2 | 2 | like   | -3 |\n",
       "| 3 | 3 | to     | -2 |\n",
       "| 4 | 4 | use    | -1 |\n",
       "| 5 | 5 | Python |  0 |\n",
       "| 6 | 6 | and    |  1 |\n",
       "| 7 | 7 | Pandas |  2 |\n",
       "| 8 | 8 | very   |  3 |\n",
       "| 9 | 9 | much   |  4 |\n",
       "\n"
      ],
      "text/plain": [
       "  A B      DivA\n",
       "1 1 I      -4  \n",
       "2 2 like   -3  \n",
       "3 3 to     -2  \n",
       "4 4 use    -1  \n",
       "5 5 Python  0  \n",
       "6 6 and     1  \n",
       "7 7 Pandas  2  \n",
       "8 8 very    3  \n",
       "9 9 much    4  "
      ]
     },
     "metadata": {},
     "output_type": "display_data"
    }
   ],
   "source": [
    "df"
   ]
  },
  {
   "cell_type": "code",
   "execution_count": 87,
   "id": "c2fdab9c",
   "metadata": {},
   "outputs": [],
   "source": [
    "df$LenB <- str_length(df$B)"
   ]
  },
  {
   "cell_type": "code",
   "execution_count": 88,
   "id": "c523989b",
   "metadata": {},
   "outputs": [
    {
     "data": {
      "text/html": [
       "<table class=\"dataframe\">\n",
       "<caption>A data.frame: 9 × 4</caption>\n",
       "<thead>\n",
       "\t<tr><th></th><th scope=col>A</th><th scope=col>B</th><th scope=col>DivA</th><th scope=col>LenB</th></tr>\n",
       "\t<tr><th></th><th scope=col>&lt;int&gt;</th><th scope=col>&lt;chr&gt;</th><th scope=col>&lt;dbl&gt;</th><th scope=col>&lt;int&gt;</th></tr>\n",
       "</thead>\n",
       "<tbody>\n",
       "\t<tr><th scope=row>1</th><td>1</td><td>I     </td><td>-4</td><td>1</td></tr>\n",
       "\t<tr><th scope=row>2</th><td>2</td><td>like  </td><td>-3</td><td>4</td></tr>\n",
       "\t<tr><th scope=row>3</th><td>3</td><td>to    </td><td>-2</td><td>2</td></tr>\n",
       "\t<tr><th scope=row>4</th><td>4</td><td>use   </td><td>-1</td><td>3</td></tr>\n",
       "\t<tr><th scope=row>5</th><td>5</td><td>Python</td><td> 0</td><td>6</td></tr>\n",
       "\t<tr><th scope=row>6</th><td>6</td><td>and   </td><td> 1</td><td>3</td></tr>\n",
       "\t<tr><th scope=row>7</th><td>7</td><td>Pandas</td><td> 2</td><td>6</td></tr>\n",
       "\t<tr><th scope=row>8</th><td>8</td><td>very  </td><td> 3</td><td>4</td></tr>\n",
       "\t<tr><th scope=row>9</th><td>9</td><td>much  </td><td> 4</td><td>4</td></tr>\n",
       "</tbody>\n",
       "</table>\n"
      ],
      "text/latex": [
       "A data.frame: 9 × 4\n",
       "\\begin{tabular}{r|llll}\n",
       "  & A & B & DivA & LenB\\\\\n",
       "  & <int> & <chr> & <dbl> & <int>\\\\\n",
       "\\hline\n",
       "\t1 & 1 & I      & -4 & 1\\\\\n",
       "\t2 & 2 & like   & -3 & 4\\\\\n",
       "\t3 & 3 & to     & -2 & 2\\\\\n",
       "\t4 & 4 & use    & -1 & 3\\\\\n",
       "\t5 & 5 & Python &  0 & 6\\\\\n",
       "\t6 & 6 & and    &  1 & 3\\\\\n",
       "\t7 & 7 & Pandas &  2 & 6\\\\\n",
       "\t8 & 8 & very   &  3 & 4\\\\\n",
       "\t9 & 9 & much   &  4 & 4\\\\\n",
       "\\end{tabular}\n"
      ],
      "text/markdown": [
       "\n",
       "A data.frame: 9 × 4\n",
       "\n",
       "| <!--/--> | A &lt;int&gt; | B &lt;chr&gt; | DivA &lt;dbl&gt; | LenB &lt;int&gt; |\n",
       "|---|---|---|---|---|\n",
       "| 1 | 1 | I      | -4 | 1 |\n",
       "| 2 | 2 | like   | -3 | 4 |\n",
       "| 3 | 3 | to     | -2 | 2 |\n",
       "| 4 | 4 | use    | -1 | 3 |\n",
       "| 5 | 5 | Python |  0 | 6 |\n",
       "| 6 | 6 | and    |  1 | 3 |\n",
       "| 7 | 7 | Pandas |  2 | 6 |\n",
       "| 8 | 8 | very   |  3 | 4 |\n",
       "| 9 | 9 | much   |  4 | 4 |\n",
       "\n"
      ],
      "text/plain": [
       "  A B      DivA LenB\n",
       "1 1 I      -4   1   \n",
       "2 2 like   -3   4   \n",
       "3 3 to     -2   2   \n",
       "4 4 use    -1   3   \n",
       "5 5 Python  0   6   \n",
       "6 6 and     1   3   \n",
       "7 7 Pandas  2   6   \n",
       "8 8 very    3   4   \n",
       "9 9 much    4   4   "
      ]
     },
     "metadata": {},
     "output_type": "display_data"
    }
   ],
   "source": [
    "df"
   ]
  },
  {
   "cell_type": "code",
   "execution_count": 89,
   "id": "c095b403",
   "metadata": {},
   "outputs": [
    {
     "data": {
      "text/html": [
       "<table class=\"dataframe\">\n",
       "<caption>A data.frame: 5 × 4</caption>\n",
       "<thead>\n",
       "\t<tr><th></th><th scope=col>A</th><th scope=col>B</th><th scope=col>DivA</th><th scope=col>LenB</th></tr>\n",
       "\t<tr><th></th><th scope=col>&lt;int&gt;</th><th scope=col>&lt;chr&gt;</th><th scope=col>&lt;dbl&gt;</th><th scope=col>&lt;int&gt;</th></tr>\n",
       "</thead>\n",
       "<tbody>\n",
       "\t<tr><th scope=row>1</th><td>1</td><td>I     </td><td>-4</td><td>1</td></tr>\n",
       "\t<tr><th scope=row>2</th><td>2</td><td>like  </td><td>-3</td><td>4</td></tr>\n",
       "\t<tr><th scope=row>3</th><td>3</td><td>to    </td><td>-2</td><td>2</td></tr>\n",
       "\t<tr><th scope=row>4</th><td>4</td><td>use   </td><td>-1</td><td>3</td></tr>\n",
       "\t<tr><th scope=row>5</th><td>5</td><td>Python</td><td> 0</td><td>6</td></tr>\n",
       "</tbody>\n",
       "</table>\n"
      ],
      "text/latex": [
       "A data.frame: 5 × 4\n",
       "\\begin{tabular}{r|llll}\n",
       "  & A & B & DivA & LenB\\\\\n",
       "  & <int> & <chr> & <dbl> & <int>\\\\\n",
       "\\hline\n",
       "\t1 & 1 & I      & -4 & 1\\\\\n",
       "\t2 & 2 & like   & -3 & 4\\\\\n",
       "\t3 & 3 & to     & -2 & 2\\\\\n",
       "\t4 & 4 & use    & -1 & 3\\\\\n",
       "\t5 & 5 & Python &  0 & 6\\\\\n",
       "\\end{tabular}\n"
      ],
      "text/markdown": [
       "\n",
       "A data.frame: 5 × 4\n",
       "\n",
       "| <!--/--> | A &lt;int&gt; | B &lt;chr&gt; | DivA &lt;dbl&gt; | LenB &lt;int&gt; |\n",
       "|---|---|---|---|---|\n",
       "| 1 | 1 | I      | -4 | 1 |\n",
       "| 2 | 2 | like   | -3 | 4 |\n",
       "| 3 | 3 | to     | -2 | 2 |\n",
       "| 4 | 4 | use    | -1 | 3 |\n",
       "| 5 | 5 | Python |  0 | 6 |\n",
       "\n"
      ],
      "text/plain": [
       "  A B      DivA LenB\n",
       "1 1 I      -4   1   \n",
       "2 2 like   -3   4   \n",
       "3 3 to     -2   2   \n",
       "4 4 use    -1   3   \n",
       "5 5 Python  0   6   "
      ]
     },
     "metadata": {},
     "output_type": "display_data"
    }
   ],
   "source": [
    "df[0:5,]"
   ]
  },
  {
   "cell_type": "code",
   "execution_count": 91,
   "id": "f6f37d10",
   "metadata": {},
   "outputs": [],
   "source": [
    " df1 = group_by(df,LenB)"
   ]
  },
  {
   "cell_type": "code",
   "execution_count": 93,
   "id": "c1908f62",
   "metadata": {},
   "outputs": [
    {
     "data": {
      "text/html": [
       "<table class=\"dataframe\">\n",
       "<caption>A tibble: 5 × 2</caption>\n",
       "<thead>\n",
       "\t<tr><th scope=col>LenB</th><th scope=col>mymean</th></tr>\n",
       "\t<tr><th scope=col>&lt;int&gt;</th><th scope=col>&lt;dbl&gt;</th></tr>\n",
       "</thead>\n",
       "<tbody>\n",
       "\t<tr><td>1</td><td>1</td></tr>\n",
       "\t<tr><td>2</td><td>2</td></tr>\n",
       "\t<tr><td>3</td><td>3</td></tr>\n",
       "\t<tr><td>4</td><td>4</td></tr>\n",
       "\t<tr><td>6</td><td>6</td></tr>\n",
       "</tbody>\n",
       "</table>\n"
      ],
      "text/latex": [
       "A tibble: 5 × 2\n",
       "\\begin{tabular}{ll}\n",
       " LenB & mymean\\\\\n",
       " <int> & <dbl>\\\\\n",
       "\\hline\n",
       "\t 1 & 1\\\\\n",
       "\t 2 & 2\\\\\n",
       "\t 3 & 3\\\\\n",
       "\t 4 & 4\\\\\n",
       "\t 6 & 6\\\\\n",
       "\\end{tabular}\n"
      ],
      "text/markdown": [
       "\n",
       "A tibble: 5 × 2\n",
       "\n",
       "| LenB &lt;int&gt; | mymean &lt;dbl&gt; |\n",
       "|---|---|\n",
       "| 1 | 1 |\n",
       "| 2 | 2 |\n",
       "| 3 | 3 |\n",
       "| 4 | 4 |\n",
       "| 6 | 6 |\n",
       "\n"
      ],
      "text/plain": [
       "  LenB mymean\n",
       "1 1    1     \n",
       "2 2    2     \n",
       "3 3    3     \n",
       "4 4    4     \n",
       "5 6    6     "
      ]
     },
     "metadata": {},
     "output_type": "display_data"
    }
   ],
   "source": [
    "summarise(df1,mymean =mean(LenB))"
   ]
  },
  {
   "cell_type": "markdown",
   "id": "f927a466",
   "metadata": {},
   "source": [
    "## Printing and Plotting"
   ]
  },
  {
   "cell_type": "code",
   "execution_count": null,
   "id": "6e20f11d",
   "metadata": {},
   "outputs": [],
   "source": [
    "dataset = read.csv(\"file name\")"
   ]
  },
  {
   "cell_type": "code",
   "execution_count": 94,
   "id": "6bb554db",
   "metadata": {},
   "outputs": [
    {
     "data": {
      "text/html": [
       "<table class=\"dataframe\">\n",
       "<caption>A data.frame: 6 × 4</caption>\n",
       "<thead>\n",
       "\t<tr><th></th><th scope=col>A</th><th scope=col>B</th><th scope=col>DivA</th><th scope=col>LenB</th></tr>\n",
       "\t<tr><th></th><th scope=col>&lt;int&gt;</th><th scope=col>&lt;chr&gt;</th><th scope=col>&lt;dbl&gt;</th><th scope=col>&lt;int&gt;</th></tr>\n",
       "</thead>\n",
       "<tbody>\n",
       "\t<tr><th scope=row>1</th><td>1</td><td>I     </td><td>-4</td><td>1</td></tr>\n",
       "\t<tr><th scope=row>2</th><td>2</td><td>like  </td><td>-3</td><td>4</td></tr>\n",
       "\t<tr><th scope=row>3</th><td>3</td><td>to    </td><td>-2</td><td>2</td></tr>\n",
       "\t<tr><th scope=row>4</th><td>4</td><td>use   </td><td>-1</td><td>3</td></tr>\n",
       "\t<tr><th scope=row>5</th><td>5</td><td>Python</td><td> 0</td><td>6</td></tr>\n",
       "\t<tr><th scope=row>6</th><td>6</td><td>and   </td><td> 1</td><td>3</td></tr>\n",
       "</tbody>\n",
       "</table>\n"
      ],
      "text/latex": [
       "A data.frame: 6 × 4\n",
       "\\begin{tabular}{r|llll}\n",
       "  & A & B & DivA & LenB\\\\\n",
       "  & <int> & <chr> & <dbl> & <int>\\\\\n",
       "\\hline\n",
       "\t1 & 1 & I      & -4 & 1\\\\\n",
       "\t2 & 2 & like   & -3 & 4\\\\\n",
       "\t3 & 3 & to     & -2 & 2\\\\\n",
       "\t4 & 4 & use    & -1 & 3\\\\\n",
       "\t5 & 5 & Python &  0 & 6\\\\\n",
       "\t6 & 6 & and    &  1 & 3\\\\\n",
       "\\end{tabular}\n"
      ],
      "text/markdown": [
       "\n",
       "A data.frame: 6 × 4\n",
       "\n",
       "| <!--/--> | A &lt;int&gt; | B &lt;chr&gt; | DivA &lt;dbl&gt; | LenB &lt;int&gt; |\n",
       "|---|---|---|---|---|\n",
       "| 1 | 1 | I      | -4 | 1 |\n",
       "| 2 | 2 | like   | -3 | 4 |\n",
       "| 3 | 3 | to     | -2 | 2 |\n",
       "| 4 | 4 | use    | -1 | 3 |\n",
       "| 5 | 5 | Python |  0 | 6 |\n",
       "| 6 | 6 | and    |  1 | 3 |\n",
       "\n"
      ],
      "text/plain": [
       "  A B      DivA LenB\n",
       "1 1 I      -4   1   \n",
       "2 2 like   -3   4   \n",
       "3 3 to     -2   2   \n",
       "4 4 use    -1   3   \n",
       "5 5 Python  0   6   \n",
       "6 6 and     1   3   "
      ]
     },
     "metadata": {},
     "output_type": "display_data"
    }
   ],
   "source": [
    "head(df)"
   ]
  },
  {
   "cell_type": "code",
   "execution_count": 151,
   "id": "14fa8a58",
   "metadata": {},
   "outputs": [
    {
     "data": {
      "image/png": "[encoded data removed]",
      "text/plain": [
       "plot without title"
      ]
     },
     "metadata": {
      "image/png": {
       "height": 420,
       "width": 420
      }
     },
     "output_type": "display_data"
    }
   ],
   "source": [
    "plot(df$A,type = 'o',xlab = \"no\",ylab = \"A\")"
   ]
  },
  {
   "cell_type": "code",
   "execution_count": 96,
   "id": "0db236b1",
   "metadata": {},
   "outputs": [
    {
     "data": {
      "image/png": "[encoded data removed]",
      "text/plain": [
       "plot without title"
      ]
     },
     "metadata": {
      "image/png": {
       "height": 420,
       "width": 420
      }
     },
     "output_type": "display_data"
    }
   ],
   "source": [
    "barplot(df$A, ylab = 'A',xlab = 'no')"
   ]
  },
  {
   "cell_type": "code",
   "execution_count": null,
   "id": "37d719c4",
   "metadata": {},
   "outputs": [],
   "source": []
  }
 ],
 "metadata": {
  "kernelspec": {
   "display_name": "R",
   "language": "R",
   "name": "ir"
  },
  "language_info": {
   "codemirror_mode": "r",
   "file_extension": ".r",
   "mimetype": "text/x-r-source",
   "name": "R",
   "pygments_lexer": "r",
   "version": "4.1.1"
  }
 },
 "nbformat": 4,
 "nbformat_minor": 5
}
