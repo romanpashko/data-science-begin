{
 "cells": [
  {
   "cell_type": "code",
   "execution_count": null,
   "source": [
    "# print(pd.read_csv('../../data/Taxi/yellow_tripdata_2019-01.csv'))\r\n",
    "# all_files = glob.glob('../../data/Taxi/*.csv')\r\n",
    "\r\n",
    "# df = pd.concat((pd.read_csv(f) for f in all_files))\r\n",
    "# print(df)"
   ],
   "outputs": [],
   "metadata": {}
  }
 ],
 "metadata": {
  "orig_nbformat": 4,
  "language_info": {
   "name": "python"
  }
 },
 "nbformat": 4,
 "nbformat_minor": 2
}