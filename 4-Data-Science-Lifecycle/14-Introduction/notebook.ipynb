{
  "cells": [
    {
      "cell_type": "markdown",
      "source": [
        "Copyright (c) Microsoft Corporation. All rights reserved.\r\n",
        "\r\n",
        "Licensed under the MIT License."
      ],
      "metadata": {}
    },
    {
      "cell_type": "markdown",
      "source": [
        "# Exploring NYC Taxi data in Winter and Summer\r\n",
        "\r\n",
        "Refer to the [Data dictionary](https://www1.nyc.gov/assets/tlc/downloads/pdf/data_dictionary_trip_records_yellow.pdf) to explore the columns that have been provided.\r\n"
      ],
      "metadata": {}
    },
    {
      "cell_type": "code",
      "execution_count": null,
      "source": [
        "!pip install pandas"
      ],
      "outputs": [],
      "metadata": {
        "scrolled": true
      }
    },
    {
      "cell_type": "code",
      "execution_count": null,
      "source": [
        "import pandas as pd\r\n",
        "import glob\r\n",
        "\r\n",
        "path = '../../data/Taxi/yellow_tripdata_2019-{}.csv'\r\n",
        "july_taxi = pd.read_csv(path.format('07'))\r\n",
        "january_taxi = pd.read_csv(path.format('01'))\r\n",
        "\r\n",
        "df = pd.concat([january_taxi, july_taxi])\r\n",
        "\r\n",
        "print(df)"
      ],
      "outputs": [],
      "metadata": {}
    }
  ],
  "metadata": {
    "kernelspec": {
      "name": "python3",
      "display_name": "Python 3.9.7 64-bit ('venv': venv)"
    },
    "language_info": {
      "mimetype": "text/x-python",
      "name": "python",
      "pygments_lexer": "ipython3",
      "codemirror_mode": {
        "name": "ipython",
        "version": 3
      },
      "version": "3.9.7",
      "nbconvert_exporter": "python",
      "file_extension": ".py"
    },
    "name": "04-nyc-taxi-join-weather-in-pandas",
    "notebookId": 1709144033725344,
    "interpreter": {
      "hash": "6b9b57232c4b57163d057191678da2030059e733b8becc68f245de5a75abe84e"
    }
  },
  "nbformat": 4,
  "nbformat_minor": 2
}